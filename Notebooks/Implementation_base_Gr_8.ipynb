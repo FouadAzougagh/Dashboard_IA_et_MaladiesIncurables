{
 "cells": [
  {
   "cell_type": "markdown",
   "metadata": {
    "id": "je-fpOBZusM2"
   },
   "source": [
    "Auteurs : Groupe 8\n",
    "- Arouk Amine\n",
    "- Azougagh Fouad\n",
    "- Benhamouche Sofiane\n",
    "- Dahmi Issam\n",
    "- Hadda Hassan\n",
    "\n",
    "Clients : \n",
    "- Mme. Bahsoun Wahiba\n",
    "- M. Mokadem Riad\n",
    "\n"
   ]
  },
  {
   "cell_type": "code",
   "execution_count": null,
   "metadata": {
    "id": "wQ0sz9fps83H"
   },
   "outputs": [],
   "source": [
    "from pandas import read_csv\n",
    "import numpy as np \n",
    "import pandas as pd\n",
    "from sqlalchemy import create_engine\n",
    "import cx_Oracle\n",
    "import datetime\n",
    "from tqdm import tqdm\n",
    "import re\n",
    "import random"
   ]
  },
  {
   "cell_type": "code",
   "execution_count": null,
   "metadata": {
    "id": "C8_erUo8s83S",
    "outputId": "c92eb22d-77bb-4b1f-929a-78065f436882"
   },
   "outputs": [
    {
     "name": "stdout",
     "output_type": "stream",
     "text": [
      "Requirement already satisfied: sqlalchemy in c:\\users\\inspiron\\anaconda3\\lib\\site-packages (1.3.5)\n",
      "Note: you may need to restart the kernel to use updated packages.\n"
     ]
    }
   ],
   "source": [
    "pip install sqlalchemy"
   ]
  },
  {
   "cell_type": "code",
   "execution_count": null,
   "metadata": {
    "id": "D7536gqIs83V",
    "outputId": "39fc96aa-8226-4415-87bb-904c01d7604c"
   },
   "outputs": [
    {
     "name": "stdout",
     "output_type": "stream",
     "text": [
      "Requirement already satisfied: cx_Oracle in c:\\users\\inspiron\\anaconda3\\lib\\site-packages (7.3.0)\n",
      "Note: you may need to restart the kernel to use updated packages.\n"
     ]
    }
   ],
   "source": [
    "pip install  cx_Oracle"
   ]
  },
  {
   "cell_type": "code",
   "execution_count": 2,
   "metadata": {
    "id": "7peHTvjBs83W",
    "outputId": "2edf588b-4382-41f7-b589-39d21c40fc5a",
    "scrolled": false
   },
   "outputs": [],
   "source": [
    "df=pd.read_csv('C:/Users/Inspiron/Desktop/Dashboard_V7.csv')\n",
    "df"
   ]
  },
  {
   "cell_type": "code",
   "execution_count": null,
   "metadata": {
    "id": "VsEcL9-ns83Y",
    "outputId": "fe299aa7-1265-42c0-c943-0675166ac26e"
   },
   "outputs": [
    {
     "name": "stdout",
     "output_type": "stream",
     "text": [
      "8\n"
     ]
    }
   ],
   "source": [
    "#calcule le nombre d'occurences dans abstract \n",
    "compte = 0\n",
    "for i in range(0,len(df)) :\n",
    "    if ('multiclass classification' in str(df['Abstract'][i]).lower()) :\n",
    "        compte+=1\n",
    "print(compte)"
   ]
  },
  {
   "cell_type": "code",
   "execution_count": null,
   "metadata": {
    "id": "2GLl2R6Cs83a"
   },
   "outputs": [],
   "source": [
    "######### table Article #############\n",
    "connection = engine.raw_connection()\n",
    "cursor = connection.cursor()\n",
    "\n",
    "for i in range(0,100) :\n",
    "    identifiant = df['id_article'][i]\n",
    "    titre = df['Titre'][i]\n",
    "    annee = df['Annee'][i]\n",
    "    cursor.execute(\"insert into Article values ('\" +identifiant+\"','\"+titre+\"',''\"+annee+\"')\") \n",
    "    cursor.close()"
   ]
  },
  {
   "cell_type": "code",
   "execution_count": null,
   "metadata": {
    "id": "WM-3wdbrs83d",
    "outputId": "4afbfc9b-00c0-4e91-86c7-f0e802c2e565"
   },
   "outputs": [
    {
     "data": {
      "text/plain": [
       "21"
      ]
     },
     "execution_count": 10,
     "metadata": {
      "tags": []
     },
     "output_type": "execute_result"
    }
   ],
   "source": [
    "#### cacule la taille maximum \n",
    "maxa = len(df['domaine_titre'][0])\n",
    "for le in df['domaine_titre'] :\n",
    "    if len(str(le))>maxa:\n",
    "        maxa = len(le)\n",
    "maxa"
   ]
  },
  {
   "cell_type": "code",
   "execution_count": null,
   "metadata": {
    "id": "S1yaedbLs83e"
   },
   "outputs": [],
   "source": [
    "Abstract = []\n",
    "for i in range(0,len(df)) :\n",
    "    Abstract.append(sentense2cleanTokens(df['Abstract'][i]))\n",
    "df['Abstract'] = Abstract"
   ]
  },
  {
   "cell_type": "code",
   "execution_count": null,
   "metadata": {
    "id": "aiPU5OWUs83f"
   },
   "outputs": [],
   "source": [
    "Abstract = []\n",
    "for i in range(0,len(df)) :\n",
    "    Abstract.append(df['Abstract'][i].replace(\"β\",\" \"))\n",
    "df['Abstract'] = Abstract"
   ]
  },
  {
   "cell_type": "code",
   "execution_count": null,
   "metadata": {
    "id": "7SsuhTLjs83f"
   },
   "outputs": [],
   "source": [
    "def t(texte) :\n",
    "    lo = ['a','b','c','d','e','f','g','h','i','j','k','l','m','n','o','p','q','r','s','t','u','v','w','x','y','z']\n",
    "    up = ['A','B','C','D','E','F','G','H','I','J','K','L','M','N','O','P','Q','R','S','T','U','V','W','X','Y','Z']\n",
    "    for i in str(texte):\n",
    "        if ((i not in lo) and (i not in up)):\n",
    "            texte = str(texte.replace(i,' '))\n",
    "    return texte\n",
    "\n",
    "e = [t(df['Abstract'][i]) for i in range(0,len(df))]\n",
    "\n",
    "df['Abstract'] = e"
   ]
  },
  {
   "cell_type": "code",
   "execution_count": null,
   "metadata": {
    "id": "bVz6V9Tfs83g"
   },
   "outputs": [],
   "source": [
    "l = [] \n",
    "for i in range(0,len(df)):\n",
    "    if len(str(df['Abstract'][i])) > 4000:\n",
    "        l.append(str(df['Abstract'][i])[:4000])\n",
    "    else :         \n",
    "        l.append(str(df['Abstract'][i]))          \n",
    "df['Abstract'] = l"
   ]
  },
  {
   "cell_type": "code",
   "execution_count": null,
   "metadata": {
    "id": "eqmmgNrFs83g"
   },
   "outputs": [],
   "source": [
    "def sentense2cleanTokens(sent):\n",
    "    sent = sent.lower()\n",
    "    sent = \"\".join([x if x.isalpha() else \" \" for x in sent])\n",
    "    sent = \" \".join(sent.split())\n",
    "    return sent"
   ]
  },
  {
   "cell_type": "code",
   "execution_count": null,
   "metadata": {
    "id": "4dXOmqPts83h"
   },
   "outputs": [],
   "source": [
    "titre = []\n",
    "for i in range(0,len(df)) :\n",
    "    titre.append(sentense2cleanTokens(df['Titre'][i]))\n",
    "df['Titre'] = titre"
   ]
  },
  {
   "cell_type": "code",
   "execution_count": null,
   "metadata": {
    "id": "njLSLeCus83i"
   },
   "outputs": [],
   "source": [
    "def t(texte) :\n",
    "    lo = ['a','b','c','d','e','f','g','h','i','j','k','l','m','n','o','p','q','r','s','t','u','v','w','x','y','z']\n",
    "    up = ['A','B','C','D','E','F','G','H','I','J','K','L','M','N','O','P','Q','R','S','T','U','V','W','X','Y','Z']\n",
    "    for i in str(texte):\n",
    "        if ((i not in lo) and (i not in up)):\n",
    "            texte = str(texte.replace(i,' '))\n",
    "    return texte\n",
    "\n",
    "e = [t(df['Titre'][i]) for i in range(0,len(df))]\n",
    "\n",
    "df['Titre'] = e"
   ]
  },
  {
   "cell_type": "code",
   "execution_count": 3,
   "metadata": {
    "id": "Skio7b3os83j",
    "outputId": "e777d122-a340-4ebd-8159-018b2fb28a28"
   },
   "outputs": [],
   "source": [
    "for i in tqdm(range(3624,len(df))):\n",
    "    identifiant = df['id_article'][i]\n",
    "    titre = df['Titre'][i]\n",
    "    annee = df['Annee'][i]\n",
    "    Abstract = df['Abstract'][i]\n",
    "    connection = engine.raw_connection()\n",
    "    cursor = connection.cursor()\n",
    "    \n",
    "# Check if account exists \n",
    "    try:\n",
    "        cursor = connection.cursor()\n",
    "        cursor.execute(\"insert into Article values ('\" +str(identifiant)+\"','\"+titre+\"','\"+annee+\"','\"+str(Abstract)+\"')\")\n",
    "        cursor.close()\n",
    "        connection.commit()\n",
    "    finally:\n",
    "        connection.close()"
   ]
  },
  {
   "cell_type": "code",
   "execution_count": null,
   "metadata": {
    "id": "ClZ5vRehs83m"
   },
   "outputs": [],
   "source": [
    "df.to_csv('C:/Users/Inspiron/Desktop/Dashboard_V7.csv', index = False)"
   ]
  },
  {
   "cell_type": "code",
   "execution_count": null,
   "metadata": {
    "id": "wd3mGGc9s83o",
    "outputId": "7ddc9b3d-2cd1-4d90-9ce8-eb02df986e1c"
   },
   "outputs": [
    {
     "name": "stderr",
     "output_type": "stream",
     "text": [
      "100%|████████████████████████████████████████████████████████████████████████████████████████████████████████████████████████████| 13157/13157 [40:10<00:00,  5.52it/s]\n"
     ]
    }
   ],
   "source": [
    "################## table Keyword ##################\n",
    "\n",
    "for i in tqdm(range(0,len(a))):\n",
    "    id_keyword = i\n",
    "    mot = a[i]\n",
    "    connection = engine.raw_connection()\n",
    "    cursor = connection.cursor()\n",
    "\n",
    "# Check if account exists \n",
    "    try:\n",
    "        cursor = connection.cursor()\n",
    "        cursor.execute(\"insert into Keyword values (\" +str(id_keyword)+\",'\" + str(mot)+\"')\")\n",
    "\n",
    "        cursor.close()\n",
    "        connection.commit()\n",
    "    finally:\n",
    "        connection.close()"
   ]
  },
  {
   "cell_type": "code",
   "execution_count": null,
   "metadata": {
    "id": "p5iOJW16s83q"
   },
   "outputs": [],
   "source": [
    "b = []\n",
    "\n",
    "def net(mot) :\n",
    "    mot = str(mot)\n",
    "    return mot.lower().split('], [')[i].replace(\"'\",\"\").replace(\",\",\"\")\n",
    "def sep(mot) :\n",
    "    mot = str(mot)\n",
    "    return len(mot.lower().split('], ['))\n",
    "\n",
    "for e in range(0,9000) :\n",
    "    txt = df['keywords'][e]\n",
    "    for i in range(0,sep(txt)):\n",
    "        if i ==0:\n",
    "            c = net(txt)\n",
    "            b.append(c[2:])\n",
    "        elif i == sep(txt)-1:\n",
    "            c = net(txt)\n",
    "            b.append(c[:-2])\n",
    "        else:\n",
    "            b.append(net(txt))\n",
    "a = (list(set(b)))"
   ]
  },
  {
   "cell_type": "code",
   "execution_count": null,
   "metadata": {
    "id": "65m22LkEs83r"
   },
   "outputs": [],
   "source": [
    "d = {}\n",
    "def net(mot) :\n",
    "    mot=str(mot)\n",
    "    return mot.lower().split('], [')[i].replace(\"'\",\"\").replace(\",\",\"\")\n",
    "def sep(mot) :\n",
    "    mot=str(mot)\n",
    "    return len(mot.lower().split('], ['))\n",
    "\n",
    "for e in range(23990,len(df)) :\n",
    "    b = []\n",
    "    txt = df['keywords'][e]\n",
    "    for i in range(0,sep(txt)):\n",
    "        if i ==0:\n",
    "            c = net(txt)\n",
    "            b.append(c[2:])\n",
    "        elif i == sep(txt)-1:\n",
    "            c = net(txt)\n",
    "            b.append(c[:-2])\n",
    "        else:\n",
    "            b.append(net(txt))\n",
    "    d[df['id_article'][e]] = b"
   ]
  },
  {
   "cell_type": "code",
   "execution_count": null,
   "metadata": {
    "id": "FC3Ja5-us83s"
   },
   "outputs": [],
   "source": [
    "for identifiant in d.keys():\n",
    "    liste = d[identifiant]\n",
    "    for term in liste :\n",
    "        position = a.index(term)\n",
    "        connection = engine.raw_connection()\n",
    "        cursor = connection.cursor()\n",
    "\n",
    "        try:\n",
    "            cursor = connection.cursor()\n",
    "            cursor.execute(\"insert into Contenir values ('\" +str(identifiant)+\"',\" + str(position)+\")\")\n",
    "\n",
    "            cursor.close()\n",
    "            connection.commit()\n",
    "        finally:\n",
    "            connection.close()"
   ]
  },
  {
   "cell_type": "code",
   "execution_count": null,
   "metadata": {
    "id": "Zt6egJgRs83t"
   },
   "outputs": [],
   "source": [
    "mal = {}\n",
    "maladie = ['cardiovascular disease','cancer','asthma' ,'alzheimer','diabetes','AIDS' ,'schizophrenia' ,'neurodegenerative diseases']\n",
    "for i in range(0,len(df)):\n",
    "    liste = []\n",
    "    ide = df['id_article'][i]\n",
    "    abstract = df['Abstract'][i]\n",
    "    for e in range(0,len(maladie)) :\n",
    "        if maladie[e] in str(abstract) :\n",
    "            liste.append(e+1)\n",
    "    mal[ide] = liste    "
   ]
  },
  {
   "cell_type": "code",
   "execution_count": null,
   "metadata": {
    "id": "rG_Lm38Ws83u"
   },
   "outputs": [],
   "source": [
    "for identifiant in mal.keys():\n",
    "    liste = mal[identifiant]\n",
    "    for term in liste :\n",
    "        connection = engine.raw_connection()\n",
    "        cursor = connection.cursor()\n",
    "\n",
    "        try:\n",
    "            cursor = connection.cursor()\n",
    "            cursor.execute(\"insert into Concerner values ('\"+str(identifiant)+\"',\" + str(term)+\")\")\n",
    "\n",
    "            cursor.close()\n",
    "            connection.commit()\n",
    "        finally:s\n",
    "            connection.close()"
   ]
  },
  {
   "cell_type": "code",
   "execution_count": null,
   "metadata": {
    "id": "wuKVhE--s83v"
   },
   "outputs": [],
   "source": [
    "###################### Auteur ########################\n",
    "aut_net = []\n",
    "for i in range(0,len(df)):\n",
    "    auteur = df['Auteur'][i]\n",
    "    aut_net.append(auteur[1:-1])"
   ]
  },
  {
   "cell_type": "code",
   "execution_count": null,
   "metadata": {
    "id": "WhzrwSDSs83v"
   },
   "outputs": [],
   "source": [
    "auteur_net = []\n",
    "\n",
    "for i in aut_net:\n",
    "    auteur_net.append(i.replace(\"'\", \"\").split(','))"
   ]
  },
  {
   "cell_type": "code",
   "execution_count": null,
   "metadata": {
    "id": "xo4mTf8Ds83v",
    "outputId": "0f26ffeb-5dbb-485c-e054-77525d151f13"
   },
   "outputs": [
    {
     "data": {
      "text/plain": [
       "9991"
      ]
     },
     "execution_count": 17,
     "metadata": {
      "tags": []
     },
     "output_type": "execute_result"
    }
   ],
   "source": [
    "auteur_bis = []\n",
    "for i in range(len(auteur_net)):\n",
    "    trans = []\n",
    "    for element in auteur_net[i]:\n",
    "        if ('\\\\n') not in element:\n",
    "            trans.append(element)\n",
    "    auteur_bis.append(trans)\n",
    "\n",
    "len(auteur_bis)"
   ]
  },
  {
   "cell_type": "code",
   "execution_count": null,
   "metadata": {
    "id": "Lg-2nwhis83w",
    "outputId": "5d2a0df4-4ade-4b15-deab-fb784e9b9761"
   },
   "outputs": [
    {
     "data": {
      "text/plain": [
       "['computer science and engineering']"
      ]
     },
     "execution_count": 18,
     "metadata": {
      "tags": []
     },
     "output_type": "execute_result"
    }
   ],
   "source": [
    "ab = []\n",
    "for i in range(0,len(df['department'])):\n",
    "    departement = re.findall('department of ([\\w* ]*)',df['department'][i])\n",
    "    ab.append(departement)\n",
    "ab[0]"
   ]
  },
  {
   "cell_type": "code",
   "execution_count": null,
   "metadata": {
    "id": "_IvhXaFGs83w",
    "outputId": "2ccfff9b-3249-45e0-91a7-fd1d4fd27bda"
   },
   "outputs": [
    {
     "name": "stderr",
     "output_type": "stream",
     "text": [
      "100%|████████████████████████████████████████████████████████████████████████████| 9991/9991 [00:07<00:00, 1348.45it/s]\n"
     ]
    }
   ],
   "source": [
    "L = ['california','massachusetts','maryland','pennsylvania','jordan',\n",
    "     'texas','connecticut','ohio','carolina','minnesota','florida','michigan',\n",
    "     'virginia','wisconsin','arizona','tennessee',\n",
    "     'oklahoma','illinois','francisco','seattle','idaho','colorado']\n",
    "\n",
    "etat = []\n",
    "for i in tqdm(range(0,len(df))) :\n",
    "    e=0\n",
    "    letat = 'hors usa'\n",
    "    for element in L : \n",
    "        if element in str(df['Affiliation'][i]).lower():\n",
    "            letat = element\n",
    "        \n",
    "    etat.append(letat)\n"
   ]
  },
  {
   "cell_type": "code",
   "execution_count": null,
   "metadata": {
    "id": "C8cOJtlns83x",
    "outputId": "67be7902-23a0-4760-f230-e3346b4a5aba"
   },
   "outputs": [
    {
     "name": "stderr",
     "output_type": "stream",
     "text": [
      "100%|████████████████████████████████████████████████████████████████████████████| 9991/9991 [00:01<00:00, 8948.55it/s]\n"
     ]
    }
   ],
   "source": [
    "auteurs = {}\n",
    "for i in tqdm(range(0,len(df))):\n",
    "    a=0\n",
    "    listeauteur = auteur_bis[i]\n",
    "    listedepartement = ab[i]\n",
    "    while (a<len(listeauteur) and a<len(listedepartement)) :\n",
    "        auteurs[listeauteur[a]] = [listedepartement[a],df['Pays'][i],etat[i]]\n",
    "        a+=1\n",
    "    if a < len(listeauteur) :\n",
    "        for e in range (a,len(listeauteur)):\n",
    "            if a!=0:\n",
    "                auteurs[listeauteur[e]] = [listedepartement[a-1],df['Pays'][i],etat[i]]\n"
   ]
  },
  {
   "cell_type": "code",
   "execution_count": null,
   "metadata": {
    "id": "KlPRsaqOs83y"
   },
   "outputs": [],
   "source": [
    "L = ['california','massachusetts','maryland','pennsylvania','jordan',\n",
    "     'texas','connecticut','ohio','carolina','minnesota','florida','michigan',\n",
    "     'virginia','wisconsin','arizona','tennessee',\n",
    "     'oklahoma','illinois','francisco','seattle','idaho','colorado','states']\n",
    "\n",
    "for element in auteurs.keys() :\n",
    "    if auteurs[element][1] in L :\n",
    "        auteurs[element][1] = 'usa'\n",
    "    "
   ]
  },
  {
   "cell_type": "code",
   "execution_count": null,
   "metadata": {
    "id": "NVd13VVFs83z"
   },
   "outputs": [],
   "source": [
    "def t(texte) :\n",
    "    lo = ['a','b','c','d','e','f','g','h','i','j','k','l','m','n','o','p','q','r','s','t','u','v','w','x','y','z']\n",
    "    up = ['A','B','C','D','E','F','G','H','I','J','K','L','M','N','O','P','Q','R','S','T','U','V','W','X','Y','Z']\n",
    "    for i in str(texte):\n",
    "        if ((i not in lo) and (i not in up)):\n",
    "            texte = str(texte.replace(i,' '))\n",
    "    return texte\n",
    "\n",
    "auteursbis = {}\n",
    "for cle in list(auteurs.keys()):\n",
    "    l = auteurs[cle]\n",
    "    cle = t(cle)\n",
    "    li = []\n",
    "    for element in l :\n",
    "        element = t(element)\n",
    "        li.append(element)\n",
    "    auteursbis[cle] = li"
   ]
  },
  {
   "cell_type": "code",
   "execution_count": null,
   "metadata": {
    "id": "qEjT8fohs830",
    "scrolled": true
   },
   "outputs": [],
   "source": [
    "nomAuteur = list(auteursbis.keys())\n",
    "\n",
    "for i in tqdm(range(25291,len(nomAuteur))):\n",
    "    nom = nomAuteur[i]\n",
    "    pays = auteursbis[nom][1]\n",
    "    etat = auteursbis[nom][2]\n",
    "    departement = auteursbis[nom][0]\n",
    "    \n",
    "    connection = engine.raw_connection()\n",
    "    cursor = connection.cursor()\n",
    "\n",
    "    try:\n",
    "        cursor = connection.cursor()\n",
    "        cursor.execute(\"insert into Auteur values (\"+str(i)+\",'\"+str(nom)+\"','\" + str(pays)+\"','\"+str(etat)+\"','\"+str(departement)+\"')\")\n",
    "\n",
    "        cursor.close()\n",
    "        connection.commit()\n",
    "    finally:\n",
    "        connection.close()"
   ]
  },
  {
   "cell_type": "code",
   "execution_count": null,
   "metadata": {
    "id": "EdbwKg4js833"
   },
   "outputs": [],
   "source": [
    "nom = list(auteurs.keys())\n",
    "ecrire = {}\n",
    "for i in tqdm(range(0,len(df))):\n",
    "    url = df['id_article'][i]\n",
    "    for aut in auteur_bis[i]:\n",
    "        if aut in nom :\n",
    "            numero = nom.index(aut)\n",
    "        ecrire[str(numero)] = url"
   ]
  },
  {
   "cell_type": "code",
   "execution_count": null,
   "metadata": {
    "id": "LjPxE1srs834",
    "scrolled": true
   },
   "outputs": [],
   "source": [
    "for i in tqdm(range(18700,len(idauteur))):    \n",
    "    identifiant = idauteur[i]\n",
    "    idarticle = ecrire[identifiant]\n",
    "    connection = engine.raw_connection()\n",
    "    cursor = connection.cursor()\n",
    "    try:\n",
    "        cursor = connection.cursor()\n",
    "        cursor.execute(\"insert into Ecrire values ('\"+str(idarticle)+\"',\"+str(identifiant)+ \")\")\n",
    "        cursor.close()\n",
    "        connection.commit()\n",
    "    finally:\n",
    "        connection.close()"
   ]
  },
  {
   "cell_type": "code",
   "execution_count": null,
   "metadata": {
    "id": "b80GCK8Ns836"
   },
   "outputs": [],
   "source": [
    "e = []\n",
    "for i in range(0,len(df)):\n",
    "    e.append(df['id_article'][i])\n",
    "sup = random.sample(e,4000)\n",
    "\n",
    "for i in tqdm(range(0,len(sup))):\n",
    "    \n",
    "    \n",
    "    identifiant = sup[i]\n",
    "    \n",
    "    connection = engine.raw_connection()\n",
    "    cursor = connection.cursor()\n",
    "    try:\n",
    "        cursor = connection.cursor()\n",
    "        cursor.execute(\"delete from Contenir where id_article = '\" +str(identifiant)+\"'\"  )\n",
    "\n",
    "        cursor.close()\n",
    "        connection.commit()\n",
    "    finally:\n",
    "        connection.close()"
   ]
  },
  {
   "cell_type": "code",
   "execution_count": null,
   "metadata": {
    "id": "kflGSzDns839",
    "scrolled": false
   },
   "outputs": [],
   "source": [
    "ze = ['endoscopy','tomotherapy','gastroenterology','psychiatry','spectroscopy','mammographically','histopathology',\n",
    "      'cardiology', 'oncodermatology', 'dermatology', 'neurosurgery', 'colonoscopy', 'radiology','mammography', 'photography',\n",
    " 'therapy', 'neurospy', 'pathology', 'pulmonology', 'ophthalmology', 'anesthesiology', 'radiotherapy',\n",
    "      'respiratory', 'biology', 'microscopy', 'urology','nephropathology','oncology','colposcopy','nanotechnology',\n",
    "      'dermoscopy','morphometry','morphology','technology','chemotherapy','neuropathology']\n",
    "\n",
    "for i in tqdm(range(0,len(ze))):\n",
    "    \n",
    "    \n",
    "    connection = engine.raw_connection()\n",
    "    cursor = connection.cursor()\n",
    "    try:\n",
    "        cursor = connection.cursor()\n",
    "        cursor.execute(\"insert into DemaineApplication values(\" +str(i)+\",'\"+ str(ze[i])+\"')\"  )\n",
    "\n",
    "        cursor.close()\n",
    "        connection.commit()\n",
    "    finally:\n",
    "        connection.close()"
   ]
  },
  {
   "cell_type": "code",
   "execution_count": null,
   "metadata": {
    "id": "xCk4GZgts83-"
   },
   "outputs": [],
   "source": [
    "liste = []\n",
    "for i in range(0,len(df)):\n",
    "    abstract = str(df['Abstract'][i])\n",
    "    abstract = abstract.replace('using','').replace('used','').replace('based','').replace('feature','')\n",
    "    liste.append(abstract)\n",
    "df['Abstract'] = liste"
   ]
  },
  {
   "cell_type": "code",
   "execution_count": null,
   "metadata": {
    "id": "BcFvoWtls83-"
   },
   "outputs": [],
   "source": [
    "##########DOMAINES Application ###############\n",
    "list_spe = ['drug design','detection','patient care']\n",
    "\n",
    "DictDomaine = {}\n",
    "for i in range(0,len(df)) :\n",
    "    identifiant = df['id_article'][i]\n",
    "    abstract = df['Abstract'][i]\n",
    "    titre = df['Titre'][i]\n",
    "    liste = []\n",
    "    for element in list_spe :\n",
    "        if (element in str(abstract)) or (element in str(titre)):\n",
    "            liste.append(element)\n",
    "    DictDomaine[identifiant] = liste\n",
    "\n",
    "Domaines = {}\n",
    "for i in range (0,len(list_spe)):\n",
    "    dom = list_spe[i]\n",
    "    Domaines[dom] = str(i) "
   ]
  },
  {
   "cell_type": "code",
   "execution_count": null,
   "metadata": {
    "id": "rEHHsWZ8s83_"
   },
   "outputs": [],
   "source": [
    "for cle,valeur in Domaines.items():\n",
    "    connection = engine.raw_connection()\n",
    "    cursor = connection.cursor()\n",
    "    try:\n",
    "        cursor = connection.cursor()\n",
    "        cursor.execute(\"insert into DomaineApplication values(\" +str(valeur)+\",'\"+ str(cle)+\"')\"  )\n",
    "\n",
    "        cursor.close()\n",
    "        connection.commit()\n",
    "    finally:\n",
    "        connection.close()\n",
    "    "
   ]
  },
  {
   "cell_type": "code",
   "execution_count": null,
   "metadata": {
    "id": "T1_3lKF8s83_",
    "outputId": "5890c472-342c-41d8-c468-0d6fe3e86531"
   },
   "outputs": [
    {
     "name": "stderr",
     "output_type": "stream",
     "text": [
      "100%|██████████████████████████████████████████████████████████████████████████████| 9991/9991 [14:58<00:00,  6.85it/s]\n"
     ]
    }
   ],
   "source": [
    "############### Traiter ###############\n",
    "for i in tqdm(range(0,len(df))):\n",
    "    identifiant = df['id_article'][i]\n",
    "    liste = DictDomaine[identifiant]\n",
    "    for domaine in liste :\n",
    "        \n",
    "        connection = engine.raw_connection()\n",
    "        cursor = connection.cursor()\n",
    "        try:\n",
    "            cursor = connection.cursor()\n",
    "            cursor.execute(\"insert into Traiter values('\" +str(identifiant)+\"',\"+ str(Domaines[domaine])+\")\"  )\n",
    "\n",
    "            cursor.close()\n",
    "            connection.commit()\n",
    "        finally:\n",
    "            connection.close()"
   ]
  },
  {
   "cell_type": "code",
   "execution_count": null,
   "metadata": {
    "id": "3sf2D5FRs84A"
   },
   "outputs": [],
   "source": [
    "############### METHODE APPRENTISSAGE ###############\n",
    "list_spe = ['knn','neural network','logistic regression','decision tree','k means','machine learning','deep learning','robot']\n",
    "\n",
    "DictDomaine = {}\n",
    "for i in range(0,len(df)) :\n",
    "    identifiant = df['id_article'][i]\n",
    "    abstract = df['Abstract'][i]\n",
    "    titre = df['Titre'][i]\n",
    "    liste = []\n",
    "    for element in list_spe :\n",
    "        if (element in str(abstract)) or (element in str(titre)):\n",
    "            liste.append(element)\n",
    "    DictDomaine[identifiant] = liste\n",
    "\n",
    "Domaines = {}\n",
    "for i in range (0,len(list_spe)):\n",
    "    dom = list_spe[i]\n",
    "    Domaines[dom] = str(i) "
   ]
  },
  {
   "cell_type": "code",
   "execution_count": null,
   "metadata": {
    "id": "2C_g2S5cs84A"
   },
   "outputs": [],
   "source": [
    "############### MethodeApprentissage ###############\n",
    "for cle,valeur in Domaines.items():\n",
    "    connection = engine.raw_connection()\n",
    "    cursor = connection.cursor()\n",
    "    try:\n",
    "        cursor = connection.cursor()\n",
    "        cursor.execute(\"insert into MethodeApprentissage values(\" +str(valeur)+\",'\"+ str(cle)+\"')\"  )\n",
    "\n",
    "        cursor.close()\n",
    "        connection.commit()\n",
    "    finally:\n",
    "        connection.close()"
   ]
  },
  {
   "cell_type": "code",
   "execution_count": null,
   "metadata": {
    "id": "QxkpJYOzs84A",
    "outputId": "ba79330d-6db9-4c5a-f51f-617c51f8e1d3"
   },
   "outputs": [
    {
     "name": "stderr",
     "output_type": "stream",
     "text": [
      "100%|██████████████████████████████████████████████████████████████████████████████| 9991/9991 [18:33<00:00,  4.79it/s]\n"
     ]
    }
   ],
   "source": [
    "############### Parler ###############\n",
    "for i in tqdm(range(0,len(df))):\n",
    "    identifiant = df['id_article'][i]\n",
    "    liste = DictDomaine[identifiant]\n",
    "    for domaine in liste :\n",
    "        \n",
    "        connection = engine.raw_connection()\n",
    "        cursor = connection.cursor()\n",
    "        try:\n",
    "            cursor = connection.cursor()\n",
    "            cursor.execute(\"insert into Parler values('\" +str(identifiant)+\"',\"+ str(Domaines[domaine])+\")\"  )\n",
    "\n",
    "            cursor.close()\n",
    "            connection.commit()\n",
    "        finally:\n",
    "            connection.close()\n"
   ]
  },
  {
   "cell_type": "code",
   "execution_count": null,
   "metadata": {
    "id": "AN-gM95Ps84B"
   },
   "outputs": [],
   "source": [
    "connection = engine.raw_connection()\n",
    "cursor = connection.cursor()\n",
    "try:\n",
    "    cursor = connection.cursor()\n",
    "    cursor.execute(\"select count(*) from article\")\n",
    "    \n",
    "    for ligne in cursor:\n",
    "        print(ligne)\n",
    "    cursor.close()\n",
    "    connection.commit()\n",
    "finally:\n",
    "    connection.close()\n"
   ]
  },
  {
   "cell_type": "code",
   "execution_count": null,
   "metadata": {
    "id": "z-w7Y7RHs84B"
   },
   "outputs": [],
   "source": [
    "id_article = []\n",
    "titre = []\n",
    "date = []\n",
    "abstract = []\n",
    "\n",
    "connection = engine.raw_connection()\n",
    "cursor = connection.cursor()\n",
    "try:\n",
    "    cursor = connection.cursor()\n",
    "    cursor.execute(\"select * from article\")\n",
    "\n",
    "    for ligne in cursor:\n",
    "        id_article.append(ligne[0])\n",
    "        titre.append(ligne[1])\n",
    "        date.append(ligne[2])\n",
    "        abstract.append(ligne[3])\n",
    "    cursor.close()\n",
    "    connection.commit()\n",
    "finally:\n",
    "    connection.close()\n"
   ]
  },
  {
   "cell_type": "code",
   "execution_count": null,
   "metadata": {
    "id": "M-vlFFICs84C"
   },
   "outputs": [],
   "source": [
    "Dataframe['id_article']=id_article\n",
    "Dataframe['Titre']=titre\n",
    "Dataframe['Abstract']=abstract"
   ]
  },
  {
   "cell_type": "code",
   "execution_count": null,
   "metadata": {
    "id": "U5wbgiVQs84C"
   },
   "outputs": [],
   "source": [
    "Pays={}\n",
    "connection = engine.raw_connection()\n",
    "cursor = connection.cursor()\n",
    "try:\n",
    "    cursor = connection.cursor()\n",
    "    cursor.execute(\"select pays,id_article from auteur,ecrire where auteur.id_auteur=ecrire.id_auteur\")\n",
    "    \n",
    "    for ligne in cursor:\n",
    "        Pays[ligne[1]]=ligne[0]\n",
    "    cursor.close()\n",
    "    connection.commit()\n",
    "finally:\n",
    "    connection.close()"
   ]
  },
  {
   "cell_type": "code",
   "execution_count": null,
   "metadata": {
    "id": "6LiIlceDs84D",
    "outputId": "a597e8aa-81ae-41cc-b005-da81927f8d5a"
   },
   "outputs": [
    {
     "data": {
      "text/plain": [
       "6221"
      ]
     },
     "execution_count": 62,
     "metadata": {
      "tags": []
     },
     "output_type": "execute_result"
    }
   ],
   "source": [
    "len(Pays)"
   ]
  },
  {
   "cell_type": "code",
   "execution_count": null,
   "metadata": {
    "id": "lDf9UGFms84D"
   },
   "outputs": [],
   "source": [
    "liste = []\n",
    "for i in range(0,len(df)) :\n",
    "    id_article = df['id_article'][i]\n",
    "    if id_article in Pays.keys():\n",
    "        liste.append(Pays[id_article])\n",
    "    else:\n",
    "        liste.append([])"
   ]
  },
  {
   "cell_type": "code",
   "execution_count": null,
   "metadata": {
    "id": "ZC9u4AkFs84D"
   },
   "outputs": [],
   "source": [
    "Dataframe['Pays']=liste"
   ]
  },
  {
   "cell_type": "code",
   "execution_count": null,
   "metadata": {
    "id": "92lwql62s84F"
   },
   "outputs": [],
   "source": [
    "keyword={}\n",
    "liste=[]\n",
    "connection = engine.raw_connection()\n",
    "cursor = connection.cursor()\n",
    "try:\n",
    "    cursor = connection.cursor()\n",
    "    cursor.execute(\"select c.id_article,k.mot from keyword k,contenir c where k.id_keyword=c.id_keyword\")\n",
    "    \n",
    "    for ligne in cursor:\n",
    "        if ligne[0] in keyword.keys():\n",
    "            keyword[ligne[0]] = keyword[ligne[0]] + [ligne[1]]\n",
    "        else :\n",
    "            keyword[ligne[0]] = [ligne[1]]\n",
    "    cursor.close()\n",
    "    connection.commit()\n",
    "finally:\n",
    "    connection.close()"
   ]
  },
  {
   "cell_type": "code",
   "execution_count": null,
   "metadata": {
    "id": "5gfptFp9s84F",
    "outputId": "7b406cbb-1f36-4e87-82c7-633baa0ef604"
   },
   "outputs": [
    {
     "data": {
      "text/plain": [
       "3806"
      ]
     },
     "execution_count": 51,
     "metadata": {
      "tags": []
     },
     "output_type": "execute_result"
    }
   ],
   "source": [
    "len(keyword)"
   ]
  },
  {
   "cell_type": "code",
   "execution_count": null,
   "metadata": {
    "id": "ApA2d5k6s84F"
   },
   "outputs": [],
   "source": [
    "liste = []\n",
    "for i in range(0,len(df)) :\n",
    "    id_article = df['id_article'][i]\n",
    "    if id_article in keyword.keys():\n",
    "        liste.append(keyword[id_article])\n",
    "    else:\n",
    "        liste.append([])"
   ]
  },
  {
   "cell_type": "code",
   "execution_count": null,
   "metadata": {
    "id": "6QvDKfBIs84F"
   },
   "outputs": [],
   "source": [
    "Dataframe['keyword']=liste"
   ]
  },
  {
   "cell_type": "code",
   "execution_count": null,
   "metadata": {
    "id": "5iSVvXS_s84H",
    "scrolled": true
   },
   "outputs": [],
   "source": [
    "listeid = []\n",
    "connection = engine.raw_connection()\n",
    "cursor = connection.cursor()\n",
    "try:\n",
    "    cursor = connection.cursor()\n",
    "    cursor.execute(\"select distinct(id_article) from contenir\"  )\n",
    "    for element in cursor :\n",
    "        listeid.append(element[0])\n",
    "    cursor.close()\n",
    "    connection.commit()\n",
    "finally:\n",
    "    connection.close()"
   ]
  },
  {
   "cell_type": "code",
   "execution_count": null,
   "metadata": {
    "id": "GlqdjbMSs84H"
   },
   "outputs": [],
   "source": [
    "############### Ecrire ###############\n",
    "idauteur = list(ecrire.keys())\n",
    "for i in tqdm(range(0,len(idauteur))):\n",
    "    \n",
    "    identifiant = idauteur[i]\n",
    "    idarticle = ecrire[identifiant]\n",
    "    if idarticle in listeid :\n",
    "        connection = engine.raw_connection()\n",
    "        cursor = connection.cursor()\n",
    "        try:\n",
    "            cursor = connection.cursor()\n",
    "            cursor.execute(\"insert into Ecrire values ('\"+str(idarticle)+\"',\"+str(idauteur)+ \")\")\n",
    "\n",
    "            cursor.close()\n",
    "            connection.commit()\n",
    "        finally:\n",
    "            connection.close()"
   ]
  }
 ],
 "metadata": {
  "colab": {
   "collapsed_sections": [],
   "name": "codegroupe8.ipynb",
   "provenance": []
  },
  "kernelspec": {
   "display_name": "Python 3",
   "language": "python",
   "name": "python3"
  },
  "language_info": {
   "codemirror_mode": {
    "name": "ipython",
    "version": 3
   },
   "file_extension": ".py",
   "mimetype": "text/x-python",
   "name": "python",
   "nbconvert_exporter": "python",
   "pygments_lexer": "ipython3",
   "version": "3.8.5"
  }
 },
 "nbformat": 4,
 "nbformat_minor": 1
}
